{
    "cells": [
        {
            "metadata": {
                "collapsed": true
            },
            "cell_type": "markdown",
            "source": "# My Jupyter Notebook on IBM Watson Studio\n"
        },
        {
            "metadata": {},
            "cell_type": "markdown",
            "source": "__Khalid Abdullah__\n\nim currently work as Data Analysis hope to run my business"
        },
        {
            "metadata": {},
            "cell_type": "markdown",
            "source": "*i am interested in data science because of my work*\n\n*I work with data and model in daily work and I want to improve myself in that field*\n\n\n"
        },
        {
            "metadata": {},
            "cell_type": "markdown",
            "source": "### My code below supposed to be the result of mathematic calculation  10 + 50 "
        },
        {
            "metadata": {},
            "cell_type": "code",
            "source": "10 + 50",
            "execution_count": 4,
            "outputs": [
                {
                    "output_type": "execute_result",
                    "execution_count": 4,
                    "data": {
                        "text/plain": "60"
                    },
                    "metadata": {}
                }
            ]
        },
        {
            "metadata": {},
            "cell_type": "markdown",
            "source": "***\n\nname | date | cost\n--- | --- | ---\n*milk* | 15-08-2020 | 50\n*honey*| 15-08-2020 | 10\n\n \n![alt text][logo]\n\n[logo]: https://pbs.twimg.com/media/EfTkdNRUwAc-HuE.png \"Logo Title Text 2\"\n\n\n***"
        },
        {
            "metadata": {},
            "cell_type": "markdown",
            "source": ""
        },
        {
            "metadata": {},
            "cell_type": "code",
            "source": "",
            "execution_count": null,
            "outputs": []
        },
        {
            "metadata": {},
            "cell_type": "code",
            "source": "",
            "execution_count": null,
            "outputs": []
        }
    ],
    "metadata": {
        "kernelspec": {
            "name": "python3",
            "display_name": "Python 3.6",
            "language": "python"
        },
        "language_info": {
            "name": "python",
            "version": "3.6.9",
            "mimetype": "text/x-python",
            "codemirror_mode": {
                "name": "ipython",
                "version": 3
            },
            "pygments_lexer": "ipython3",
            "nbconvert_exporter": "python",
            "file_extension": ".py"
        }
    },
    "nbformat": 4,
    "nbformat_minor": 1
}